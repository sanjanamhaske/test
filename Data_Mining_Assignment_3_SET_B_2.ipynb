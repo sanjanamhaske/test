{
  "cells": [
    {
      "cell_type": "markdown",
      "metadata": {
        "id": "pVfZJLMAvGIJ"
      },
      "source": [
        "SET - B\n",
        "\n",
        "2) Write a code to read the dataset (“groceries.csv”). dataset download from (https://www.kaggle.com/irfanasrullah/groceries) and apply Apriori algorithm with min_support=0.0040, min_support=0.2, min_lift=3, min_length=2."
      ]
    },
    {
      "cell_type": "code",
      "execution_count": null,
      "metadata": {
        "id": "7KuTYHw1vNJf"
      },
      "outputs": [],
      "source": [
        "import numpy as np\n",
        "import matplotlib.pyplot as plt\n",
        "import pandas as pd\n",
        "from apyori import apriori"
      ]
    },
    {
      "cell_type": "code",
      "execution_count": null,
      "metadata": {
        "id": "QvlmFxy16yLg"
      },
      "outputs": [],
      "source": [
        "store_data=pd.read_csv('groceries.csv',header=None)"
      ]
    },
    {
      "cell_type": "code",
      "execution_count": null,
      "metadata": {
        "id": "wwm9lexq-pdY"
      },
      "outputs": [],
      "source": [
        "store_data.head()"
      ]
    },
    {
      "cell_type": "code",
      "execution_count": null,
      "metadata": {
        "id": "p4_M413V-tkY"
      },
      "outputs": [],
      "source": [
        "records = []\n",
        "for i in range(0,300):\n",
        "    records.append([str(store_data.values[i,j]) for j in range(0,20)])\n"
      ]
    },
    {
      "cell_type": "code",
      "execution_count": null,
      "metadata": {
        "id": "7ZTOd9jQ-z5F"
      },
      "outputs": [],
      "source": [
        "association_rules=apriori(records,min_support=0.0040,min_confidence=0.2,min_lift=3,min_length=2)\n",
        "association_results=list(association_rules)\n"
      ]
    },
    {
      "cell_type": "code",
      "execution_count": null,
      "metadata": {
        "id": "LYXHcNQs-_Cj"
      },
      "outputs": [],
      "source": [
        "print(len(association_results))"
      ]
    },
    {
      "cell_type": "code",
      "execution_count": null,
      "metadata": {
        "id": "1gmQcNZk_Ekl"
      },
      "outputs": [],
      "source": [
        "print(association_results[0])"
      ]
    },
    {
      "cell_type": "code",
      "execution_count": null,
      "metadata": {
        "id": "mNizziCV_Jp-"
      },
      "outputs": [],
      "source": [
        "for item in association_results:\n",
        "    pair = item[0]\n",
        "    items = [x for x in pair]\n",
        "    print(\"Rule:\"+items[0]+\"->\"+items[1])\n",
        "    \n",
        "    print(\"Support:\"+str(item[1]))\n",
        "\n",
        "    print(\"Confidence:\"+str(item[2][0][2]))\n",
        "    print(\"Lift:\"+str(item[2][0][3]))\n",
        "    print(\"========================================\")"
      ]
    }
  ],
  "metadata": {
    "colab": {
      "name": "Data Mining Assignment-3 SET-B-2.ipynb",
      "provenance": []
    },
    "kernelspec": {
      "display_name": "Python 3",
      "name": "python3"
    },
    "language_info": {
      "name": "python"
    }
  },
  "nbformat": 4,
  "nbformat_minor": 0
}
