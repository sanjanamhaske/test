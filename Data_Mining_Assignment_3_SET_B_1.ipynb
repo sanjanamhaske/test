{
  "cells": [
    {
      "cell_type": "markdown",
      "metadata": {
        "id": "0hhW5uEs_wK2"
      },
      "source": [
        "### SET-B\n",
        "\n",
        "1) Write a Python program to read \"StudentsPerformance.csv\" file. solve the following :\n",
        "- To display the shape of dataset.\n",
        "- To display the top rows of the dataset with their columns.\n",
        "- To display the number of rows randomly.\n",
        "- To display the number of columns and names of the columns.\n",
        "- Note : Download dataset from following link:\n",
        "(https://www.kaggle.com/spscientist/students-performance-in-exams?select=StudentsPerformance.csv)"
      ]
    },
    {
      "cell_type": "code",
      "execution_count": 2,
      "metadata": {
        "id": "W61H7Yo7E_sP"
      },
      "outputs": [],
      "source": [
        "# Import required libraries\n",
        "import numpy as np\n",
        "import matplotlib.pyplot as plt\n",
        "import pandas as pd\n"
      ]
    },
    {
      "cell_type": "code",
      "execution_count": null,
      "metadata": {
        "id": "uC2jGgIFFVa3"
      },
      "outputs": [],
      "source": [
        "# Read the downloaded dataset\n",
        "store_data=pd.read_csv('StudentsPerformance.csv',header=None)"
      ]
    },
    {
      "cell_type": "code",
      "execution_count": null,
      "metadata": {
        "id": "wU6-JdtCF3ar"
      },
      "outputs": [],
      "source": [
        "# To display the shape of dataset. (By Using shape method)\n",
        "store_data.shape"
      ]
    },
    {
      "cell_type": "code",
      "execution_count": null,
      "metadata": {
        "id": "xHtDSrSsGT2v"
      },
      "outputs": [],
      "source": [
        "# To display the top rows of the dataset with their columns.(By using head method\n",
        "store_data.head()"
      ]
    },
    {
      "cell_type": "code",
      "execution_count": null,
      "metadata": {
        "id": "2Gwsi4oTG9QN"
      },
      "outputs": [],
      "source": [
        "# To display the number of rows randomly.(By using sample method)\n",
        "store_data.sample(10)"
      ]
    },
    {
      "cell_type": "code",
      "execution_count": null,
      "metadata": {
        "id": "ZdXc3aoUHO80"
      },
      "outputs": [],
      "source": [
        "# To display the number of columns and names of the columns. (By using columns method)\n",
        "store_data.columns()"
      ]
    }
  ],
  "metadata": {
    "colab": {
      "name": "Data Mining Assignment-3 SET-B-1.ipynb",
      "provenance": []
    },
    "kernelspec": {
      "display_name": "Python 3",
      "name": "python3"
    },
    "language_info": {
      "name": "python"
    }
  },
  "nbformat": 4,
  "nbformat_minor": 0
}
